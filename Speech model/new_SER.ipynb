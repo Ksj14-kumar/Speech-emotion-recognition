{
  "nbformat": 4,
  "nbformat_minor": 0,
  "metadata": {
    "colab": {
      "provenance": []
    },
    "kernelspec": {
      "name": "python3",
      "display_name": "Python 3"
    },
    "language_info": {
      "name": "python"
    }
  },
  "cells": [
    {
      "cell_type": "code",
      "execution_count": null,
      "metadata": {
        "id": "WuQtc8cB-knQ"
      },
      "outputs": [],
      "source": [
        "import numpy as np # linear algebra\n",
        "import pandas as pd # data processing, CSV file I/O (e.g. pd.read_csv)\n",
        "import os # to use operating system dependent functionality\n",
        "import librosa # to extract speech features\n",
        "import wave # read and write WAV files\n",
        "import matplotlib.pyplot as plt # to generate the visualizations\n",
        "\n",
        "# MLP Classifier\n",
        "from sklearn.model_selection import train_test_split\n",
        "from sklearn.neural_network import MLPClassifier\n",
        "from sklearn.metrics import accuracy_score\n",
        "\n",
        "# LSTM Classifier\n",
        "import keras\n",
        "from tensorflow.keras.utils import to_categorical\n",
        "from keras.models import Sequential\n",
        "from keras.layers import *\n",
        "# from keras.optimizer_v1 import rmsprop\n",
        "from keras.optimizers import RMSprop as rmsprop"
      ]
    },
    {
      "cell_type": "code",
      "source": [
        "from google.colab import drive\n",
        "drive.mount('/content/drive')"
      ],
      "metadata": {
        "colab": {
          "base_uri": "https://localhost:8080/"
        },
        "id": "pO74mqwB-3T4",
        "outputId": "78571136-6097-4094-beb9-1b12a1d0c8f1"
      },
      "execution_count": null,
      "outputs": [
        {
          "output_type": "stream",
          "name": "stdout",
          "text": [
            "Mounted at /content/drive\n"
          ]
        }
      ]
    },
    {
      "cell_type": "code",
      "source": [
        "def extract_mfcc(wav_file_name):\n",
        "    #This function extracts mfcc features and obtain the mean of each dimension\n",
        "    #Input : path_to_wav_file\n",
        "    #Output: mfcc_features'''\n",
        "    y, sr = librosa.load(wav_file_name)\n",
        "    mfccs = np.mean(librosa.feature.mfcc(y=y, sr=sr, n_mfcc=40).T,axis=0)\n",
        "    \n",
        "    return mfccs"
      ],
      "metadata": {
        "id": "SgsSSsuH-6xA"
      },
      "execution_count": null,
      "outputs": []
    },
    {
      "cell_type": "code",
      "source": [
        "##### load radvess speech data #####\n",
        "radvess_speech_labels = [] # to save extracted label/file\n",
        "ravdess_speech_data = [] # to save extracted features/file\n",
        "# for dirname, _, filenames in os.walk('/content/drive/MyDrive/Colab Notebooks/ravdess-emotional-speech-audio/'):\n",
        "for dirname, _, filenames in os.walk('/content/drive/MyDrive/audio_speech_actors_01-24'):\n",
        "    for filename in filenames:\n",
        "        print(filename)\n",
        "        #print(os.path.join(dirname, filename))\n",
        "        radvess_speech_labels.append(int(filename[7:8]) - 1) # the index 7 and 8 of the file name represent the emotion label\n",
        "        wav_file_name = os.path.join(dirname, filename)\n",
        "        ravdess_speech_data.append(extract_mfcc(wav_file_name)) # extract MFCC features/file\n",
        "\n",
        "print(\"Finish Loading the Dataset\")"
      ],
      "metadata": {
        "id": "ira4Zfea_AvF"
      },
      "execution_count": null,
      "outputs": []
    },
    {
      "cell_type": "code",
      "source": [
        "#### convert data and label to array\n",
        "ravdess_speech_data_array = np.asarray(ravdess_speech_data) # convert the input to an array\n",
        "ravdess_speech_label_array = np.array(radvess_speech_labels)\n",
        "ravdess_speech_label_array.shape # get tuple of array dimensions\n",
        "\n",
        "#### make categorical labels\n",
        "labels_categorical = to_categorical(ravdess_speech_label_array) # converts a class vector (integers) to binary class matrix\n",
        "labels_categorical.shape"
      ],
      "metadata": {
        "colab": {
          "base_uri": "https://localhost:8080/"
        },
        "id": "V8yYK3WxBcQo",
        "outputId": "f8fc8e9b-e00b-4c85-9b87-2ef69b5fba5a"
      },
      "execution_count": null,
      "outputs": [
        {
          "output_type": "execute_result",
          "data": {
            "text/plain": [
              "(1440, 8)"
            ]
          },
          "metadata": {},
          "execution_count": 10
        }
      ]
    },
    {
      "cell_type": "code",
      "source": [
        "ravdess_speech_data_array.shape"
      ],
      "metadata": {
        "colab": {
          "base_uri": "https://localhost:8080/"
        },
        "id": "-iA3uxczBhTc",
        "outputId": "4257d4af-c6d8-4d69-dbfa-ef6d473b26db"
      },
      "execution_count": null,
      "outputs": [
        {
          "output_type": "execute_result",
          "data": {
            "text/plain": [
              "(1440, 40)"
            ]
          },
          "metadata": {},
          "execution_count": 11
        }
      ]
    },
    {
      "cell_type": "code",
      "source": [
        "x_train,x_test,y_train,y_test= train_test_split(np.array(ravdess_speech_data_array),labels_categorical, test_size=0.20, random_state=9)"
      ],
      "metadata": {
        "id": "-ANwQ0eDBkj1"
      },
      "execution_count": null,
      "outputs": []
    },
    {
      "cell_type": "code",
      "source": [
        "# Split the training, validating, and testing sets\n",
        "number_of_samples = ravdess_speech_data_array.shape[0]\n",
        "training_samples = int(number_of_samples * 0.8)\n",
        "validation_samples = int(number_of_samples * 0.1)\n",
        "test_samples = int(number_of_samples * 0.1)"
      ],
      "metadata": {
        "id": "peRveeMHBn5X"
      },
      "execution_count": null,
      "outputs": []
    },
    {
      "cell_type": "code",
      "source": [
        "# Define the LSTM model\n",
        "def create_model_LSTM():\n",
        "    model = Sequential()\n",
        "    model.add(LSTM(128, return_sequences=False, input_shape=(40, 1)))\n",
        "    model.add(Dense(64))\n",
        "    model.add(Dropout(0.4))\n",
        "    model.add(Activation('relu'))\n",
        "    model.add(Dense(32))\n",
        "    model.add(Dropout(0.4))\n",
        "    model.add(Activation('relu'))\n",
        "    model.add(Dense(8))\n",
        "    model.add(Activation('softmax'))\n",
        "    \n",
        "    # Configures the model for training\n",
        "    model.compile(loss='categorical_crossentropy', optimizer='Adam', metrics=['accuracy'])\n",
        "    return model"
      ],
      "metadata": {
        "id": "5J2PY6JtBrUh"
      },
      "execution_count": null,
      "outputs": []
    },
    {
      "cell_type": "code",
      "source": [
        "w = np.expand_dims(ravdess_speech_data_array[:training_samples],-1)"
      ],
      "metadata": {
        "id": "9-1zVHJ5Bul3"
      },
      "execution_count": null,
      "outputs": []
    },
    {
      "cell_type": "code",
      "source": [
        "w.shape"
      ],
      "metadata": {
        "id": "P4Xsjr9XBw1g"
      },
      "execution_count": null,
      "outputs": []
    },
    {
      "cell_type": "code",
      "source": [
        "### train using LSTM model\n",
        "model_A = create_model_LSTM()\n",
        "history = model_A.fit(np.expand_dims(ravdess_speech_data_array[:training_samples],-1), labels_categorical[:training_samples], validation_data=(np.expand_dims(ravdess_speech_data_array[training_samples:training_samples+validation_samples], -1), labels_categorical[training_samples:training_samples+validation_samples]), epochs=121, shuffle=True)"
      ],
      "metadata": {
        "colab": {
          "base_uri": "https://localhost:8080/"
        },
        "id": "u4b8o0RAB0QM",
        "outputId": "81d5c545-39ec-4e56-d8a8-897d11e5873c"
      },
      "execution_count": null,
      "outputs": [
        {
          "output_type": "stream",
          "name": "stdout",
          "text": [
            "Epoch 1/121\n",
            "36/36 [==============================] - 6s 70ms/step - loss: 2.0805 - accuracy: 0.1432 - val_loss: 2.0871 - val_accuracy: 0.1181\n",
            "Epoch 2/121\n",
            "36/36 [==============================] - 2s 50ms/step - loss: 2.0590 - accuracy: 0.1632 - val_loss: 2.0439 - val_accuracy: 0.2153\n",
            "Epoch 3/121\n",
            "36/36 [==============================] - 2s 50ms/step - loss: 2.0148 - accuracy: 0.1858 - val_loss: 2.0573 - val_accuracy: 0.1597\n",
            "Epoch 4/121\n",
            "36/36 [==============================] - 2s 48ms/step - loss: 1.9806 - accuracy: 0.2049 - val_loss: 1.9468 - val_accuracy: 0.2778\n",
            "Epoch 5/121\n",
            "36/36 [==============================] - 2s 50ms/step - loss: 1.9630 - accuracy: 0.2240 - val_loss: 1.9811 - val_accuracy: 0.2708\n",
            "Epoch 6/121\n",
            "36/36 [==============================] - 3s 71ms/step - loss: 1.9437 - accuracy: 0.2309 - val_loss: 2.0044 - val_accuracy: 0.2361\n",
            "Epoch 7/121\n",
            "36/36 [==============================] - 3s 81ms/step - loss: 1.9273 - accuracy: 0.2474 - val_loss: 1.9869 - val_accuracy: 0.2708\n",
            "Epoch 8/121\n",
            "36/36 [==============================] - 2s 48ms/step - loss: 1.8983 - accuracy: 0.2526 - val_loss: 1.9404 - val_accuracy: 0.2917\n",
            "Epoch 9/121\n",
            "36/36 [==============================] - 2s 51ms/step - loss: 1.8614 - accuracy: 0.2943 - val_loss: 1.8821 - val_accuracy: 0.2708\n",
            "Epoch 10/121\n",
            "36/36 [==============================] - 2s 50ms/step - loss: 1.8490 - accuracy: 0.2812 - val_loss: 1.9782 - val_accuracy: 0.2153\n",
            "Epoch 11/121\n",
            "36/36 [==============================] - 2s 48ms/step - loss: 1.8396 - accuracy: 0.2821 - val_loss: 1.9258 - val_accuracy: 0.2847\n",
            "Epoch 12/121\n",
            "36/36 [==============================] - 2s 51ms/step - loss: 1.8689 - accuracy: 0.2865 - val_loss: 1.9790 - val_accuracy: 0.2431\n",
            "Epoch 13/121\n",
            "36/36 [==============================] - 3s 74ms/step - loss: 1.8448 - accuracy: 0.2812 - val_loss: 2.0102 - val_accuracy: 0.2500\n",
            "Epoch 14/121\n",
            "36/36 [==============================] - 3s 86ms/step - loss: 1.7990 - accuracy: 0.3030 - val_loss: 1.9311 - val_accuracy: 0.2639\n",
            "Epoch 15/121\n",
            "36/36 [==============================] - 2s 53ms/step - loss: 1.7966 - accuracy: 0.3273 - val_loss: 1.9671 - val_accuracy: 0.2569\n",
            "Epoch 16/121\n",
            "36/36 [==============================] - 2s 53ms/step - loss: 1.8026 - accuracy: 0.3073 - val_loss: 1.9158 - val_accuracy: 0.2361\n",
            "Epoch 17/121\n",
            "36/36 [==============================] - 2s 53ms/step - loss: 1.7909 - accuracy: 0.3151 - val_loss: 1.9180 - val_accuracy: 0.2778\n",
            "Epoch 18/121\n",
            "36/36 [==============================] - 2s 48ms/step - loss: 1.7548 - accuracy: 0.3377 - val_loss: 1.9038 - val_accuracy: 0.2708\n",
            "Epoch 19/121\n",
            "36/36 [==============================] - 2s 49ms/step - loss: 1.7357 - accuracy: 0.3290 - val_loss: 1.9052 - val_accuracy: 0.2708\n",
            "Epoch 20/121\n",
            "36/36 [==============================] - 3s 84ms/step - loss: 1.7528 - accuracy: 0.3299 - val_loss: 1.9428 - val_accuracy: 0.2361\n",
            "Epoch 21/121\n",
            "36/36 [==============================] - 3s 71ms/step - loss: 1.7453 - accuracy: 0.3238 - val_loss: 1.8755 - val_accuracy: 0.2917\n",
            "Epoch 22/121\n",
            "36/36 [==============================] - 2s 48ms/step - loss: 1.7528 - accuracy: 0.3194 - val_loss: 1.9059 - val_accuracy: 0.2986\n",
            "Epoch 23/121\n",
            "36/36 [==============================] - 2s 49ms/step - loss: 1.7107 - accuracy: 0.3446 - val_loss: 1.9101 - val_accuracy: 0.2708\n",
            "Epoch 24/121\n",
            "36/36 [==============================] - 2s 52ms/step - loss: 1.7362 - accuracy: 0.3290 - val_loss: 1.9137 - val_accuracy: 0.2639\n",
            "Epoch 25/121\n",
            "36/36 [==============================] - 2s 48ms/step - loss: 1.7134 - accuracy: 0.3446 - val_loss: 1.9728 - val_accuracy: 0.2431\n",
            "Epoch 26/121\n",
            "36/36 [==============================] - 2s 47ms/step - loss: 1.6694 - accuracy: 0.3750 - val_loss: 1.8980 - val_accuracy: 0.2361\n",
            "Epoch 27/121\n",
            "36/36 [==============================] - 3s 82ms/step - loss: 1.6694 - accuracy: 0.3542 - val_loss: 1.8988 - val_accuracy: 0.2986\n",
            "Epoch 28/121\n",
            "36/36 [==============================] - 3s 71ms/step - loss: 1.6930 - accuracy: 0.3472 - val_loss: 2.0076 - val_accuracy: 0.1875\n",
            "Epoch 29/121\n",
            "36/36 [==============================] - 2s 49ms/step - loss: 1.6679 - accuracy: 0.3594 - val_loss: 2.2896 - val_accuracy: 0.1944\n",
            "Epoch 30/121\n",
            "36/36 [==============================] - 2s 48ms/step - loss: 1.6652 - accuracy: 0.3576 - val_loss: 1.9978 - val_accuracy: 0.2222\n",
            "Epoch 31/121\n",
            "36/36 [==============================] - 2s 49ms/step - loss: 1.6328 - accuracy: 0.3585 - val_loss: 2.0684 - val_accuracy: 0.2153\n",
            "Epoch 32/121\n",
            "36/36 [==============================] - 2s 49ms/step - loss: 1.6205 - accuracy: 0.3707 - val_loss: 1.9847 - val_accuracy: 0.2639\n",
            "Epoch 33/121\n",
            "36/36 [==============================] - 2s 47ms/step - loss: 1.5856 - accuracy: 0.3924 - val_loss: 2.1251 - val_accuracy: 0.2292\n",
            "Epoch 34/121\n",
            "36/36 [==============================] - 4s 119ms/step - loss: 1.5754 - accuracy: 0.3854 - val_loss: 1.9555 - val_accuracy: 0.2569\n",
            "Epoch 35/121\n",
            "36/36 [==============================] - 3s 69ms/step - loss: 1.5918 - accuracy: 0.4036 - val_loss: 2.1528 - val_accuracy: 0.2083\n",
            "Epoch 36/121\n",
            "36/36 [==============================] - 2s 50ms/step - loss: 1.5943 - accuracy: 0.3793 - val_loss: 2.0766 - val_accuracy: 0.2500\n",
            "Epoch 37/121\n",
            "36/36 [==============================] - 2s 49ms/step - loss: 1.5813 - accuracy: 0.3828 - val_loss: 2.0458 - val_accuracy: 0.2500\n",
            "Epoch 38/121\n",
            "36/36 [==============================] - 2s 52ms/step - loss: 1.5161 - accuracy: 0.4227 - val_loss: 2.0938 - val_accuracy: 0.2222\n",
            "Epoch 39/121\n",
            "36/36 [==============================] - 2s 50ms/step - loss: 1.5248 - accuracy: 0.4028 - val_loss: 2.1410 - val_accuracy: 0.2083\n",
            "Epoch 40/121\n",
            "36/36 [==============================] - 2s 61ms/step - loss: 1.5451 - accuracy: 0.3993 - val_loss: 2.1117 - val_accuracy: 0.2639\n",
            "Epoch 41/121\n",
            "36/36 [==============================] - 3s 87ms/step - loss: 1.5222 - accuracy: 0.4323 - val_loss: 2.2246 - val_accuracy: 0.2778\n",
            "Epoch 42/121\n",
            "36/36 [==============================] - 2s 53ms/step - loss: 1.4970 - accuracy: 0.4149 - val_loss: 2.1815 - val_accuracy: 0.2361\n",
            "Epoch 43/121\n",
            "36/36 [==============================] - 2s 48ms/step - loss: 1.4309 - accuracy: 0.4479 - val_loss: 2.1895 - val_accuracy: 0.2569\n",
            "Epoch 44/121\n",
            "36/36 [==============================] - 2s 49ms/step - loss: 1.4254 - accuracy: 0.4332 - val_loss: 2.4544 - val_accuracy: 0.2083\n",
            "Epoch 45/121\n",
            "36/36 [==============================] - 2s 49ms/step - loss: 1.4567 - accuracy: 0.4314 - val_loss: 2.3567 - val_accuracy: 0.2014\n",
            "Epoch 46/121\n",
            "36/36 [==============================] - 2s 46ms/step - loss: 1.4476 - accuracy: 0.4332 - val_loss: 2.0774 - val_accuracy: 0.2222\n",
            "Epoch 47/121\n",
            "36/36 [==============================] - 2s 48ms/step - loss: 1.4513 - accuracy: 0.4410 - val_loss: 2.3724 - val_accuracy: 0.2292\n",
            "Epoch 48/121\n",
            "36/36 [==============================] - 3s 85ms/step - loss: 1.3528 - accuracy: 0.4835 - val_loss: 2.4393 - val_accuracy: 0.2222\n",
            "Epoch 49/121\n",
            "36/36 [==============================] - 2s 63ms/step - loss: 1.3820 - accuracy: 0.4627 - val_loss: 2.4489 - val_accuracy: 0.1944\n",
            "Epoch 50/121\n",
            "36/36 [==============================] - 2s 48ms/step - loss: 1.3377 - accuracy: 0.4783 - val_loss: 2.5302 - val_accuracy: 0.2153\n",
            "Epoch 51/121\n",
            "36/36 [==============================] - 2s 50ms/step - loss: 1.3204 - accuracy: 0.4800 - val_loss: 2.4543 - val_accuracy: 0.1944\n",
            "Epoch 52/121\n",
            "36/36 [==============================] - 2s 47ms/step - loss: 1.3450 - accuracy: 0.4696 - val_loss: 2.3099 - val_accuracy: 0.1944\n",
            "Epoch 53/121\n",
            "36/36 [==============================] - 2s 50ms/step - loss: 1.2830 - accuracy: 0.5130 - val_loss: 2.6262 - val_accuracy: 0.2292\n",
            "Epoch 54/121\n",
            "36/36 [==============================] - 2s 49ms/step - loss: 1.2844 - accuracy: 0.4878 - val_loss: 2.3869 - val_accuracy: 0.2153\n",
            "Epoch 55/121\n",
            "36/36 [==============================] - 3s 88ms/step - loss: 1.3348 - accuracy: 0.4948 - val_loss: 2.4497 - val_accuracy: 0.2014\n",
            "Epoch 56/121\n",
            "36/36 [==============================] - 2s 65ms/step - loss: 1.2556 - accuracy: 0.5208 - val_loss: 2.5807 - val_accuracy: 0.2083\n",
            "Epoch 57/121\n",
            "36/36 [==============================] - 2s 48ms/step - loss: 1.2458 - accuracy: 0.5035 - val_loss: 2.4750 - val_accuracy: 0.2292\n",
            "Epoch 58/121\n",
            "36/36 [==============================] - 2s 49ms/step - loss: 1.2176 - accuracy: 0.5191 - val_loss: 2.4378 - val_accuracy: 0.2083\n",
            "Epoch 59/121\n",
            "36/36 [==============================] - 2s 50ms/step - loss: 1.2089 - accuracy: 0.5408 - val_loss: 2.5725 - val_accuracy: 0.2292\n",
            "Epoch 60/121\n",
            "36/36 [==============================] - 2s 51ms/step - loss: 1.2045 - accuracy: 0.5469 - val_loss: 2.7109 - val_accuracy: 0.2708\n",
            "Epoch 61/121\n",
            "36/36 [==============================] - 2s 50ms/step - loss: 1.1975 - accuracy: 0.5391 - val_loss: 2.4387 - val_accuracy: 0.1944\n",
            "Epoch 62/121\n",
            "36/36 [==============================] - 3s 90ms/step - loss: 1.1811 - accuracy: 0.5408 - val_loss: 2.4259 - val_accuracy: 0.2778\n",
            "Epoch 63/121\n",
            "36/36 [==============================] - 2s 62ms/step - loss: 1.0823 - accuracy: 0.5703 - val_loss: 2.7844 - val_accuracy: 0.2014\n",
            "Epoch 64/121\n",
            "36/36 [==============================] - 2s 48ms/step - loss: 1.0757 - accuracy: 0.5816 - val_loss: 2.9307 - val_accuracy: 0.2569\n",
            "Epoch 65/121\n",
            "36/36 [==============================] - 2s 50ms/step - loss: 1.0412 - accuracy: 0.6146 - val_loss: 2.9400 - val_accuracy: 0.2361\n",
            "Epoch 66/121\n",
            "36/36 [==============================] - 2s 51ms/step - loss: 1.0512 - accuracy: 0.5998 - val_loss: 2.7505 - val_accuracy: 0.2083\n",
            "Epoch 67/121\n",
            "36/36 [==============================] - 2s 50ms/step - loss: 1.0684 - accuracy: 0.5911 - val_loss: 2.6516 - val_accuracy: 0.2639\n",
            "Epoch 68/121\n",
            "36/36 [==============================] - 2s 49ms/step - loss: 1.1395 - accuracy: 0.5859 - val_loss: 2.8167 - val_accuracy: 0.2361\n",
            "Epoch 69/121\n",
            "36/36 [==============================] - 3s 88ms/step - loss: 1.0782 - accuracy: 0.5920 - val_loss: 3.0249 - val_accuracy: 0.2292\n",
            "Epoch 70/121\n",
            "36/36 [==============================] - 2s 62ms/step - loss: 1.0301 - accuracy: 0.5929 - val_loss: 2.7872 - val_accuracy: 0.1944\n",
            "Epoch 71/121\n",
            "36/36 [==============================] - 2s 49ms/step - loss: 1.0734 - accuracy: 0.5990 - val_loss: 2.6110 - val_accuracy: 0.2639\n",
            "Epoch 72/121\n",
            "36/36 [==============================] - 2s 48ms/step - loss: 1.0198 - accuracy: 0.6267 - val_loss: 2.6711 - val_accuracy: 0.2639\n",
            "Epoch 73/121\n",
            "36/36 [==============================] - 2s 48ms/step - loss: 1.0363 - accuracy: 0.6059 - val_loss: 3.1513 - val_accuracy: 0.2569\n",
            "Epoch 74/121\n",
            "36/36 [==============================] - 2s 50ms/step - loss: 0.9425 - accuracy: 0.6285 - val_loss: 2.9461 - val_accuracy: 0.2292\n",
            "Epoch 75/121\n",
            "36/36 [==============================] - 2s 48ms/step - loss: 0.9813 - accuracy: 0.6224 - val_loss: 3.1589 - val_accuracy: 0.2500\n",
            "Epoch 76/121\n",
            "36/36 [==============================] - 3s 86ms/step - loss: 0.8754 - accuracy: 0.6727 - val_loss: 3.0852 - val_accuracy: 0.2361\n",
            "Epoch 77/121\n",
            "36/36 [==============================] - 3s 72ms/step - loss: 0.9945 - accuracy: 0.6076 - val_loss: 2.8718 - val_accuracy: 0.2569\n",
            "Epoch 78/121\n",
            "36/36 [==============================] - 2s 49ms/step - loss: 0.8783 - accuracy: 0.6701 - val_loss: 3.2393 - val_accuracy: 0.2361\n",
            "Epoch 79/121\n",
            "36/36 [==============================] - 2s 51ms/step - loss: 0.8344 - accuracy: 0.6875 - val_loss: 2.9279 - val_accuracy: 0.2222\n",
            "Epoch 80/121\n",
            "36/36 [==============================] - 2s 50ms/step - loss: 0.8706 - accuracy: 0.6858 - val_loss: 3.0128 - val_accuracy: 0.2639\n",
            "Epoch 81/121\n",
            "36/36 [==============================] - 2s 52ms/step - loss: 1.0094 - accuracy: 0.6432 - val_loss: 3.1260 - val_accuracy: 0.2292\n",
            "Epoch 82/121\n",
            "36/36 [==============================] - 2s 51ms/step - loss: 0.9816 - accuracy: 0.6562 - val_loss: 3.0127 - val_accuracy: 0.2292\n",
            "Epoch 83/121\n",
            "36/36 [==============================] - 3s 86ms/step - loss: 0.8286 - accuracy: 0.6736 - val_loss: 3.3691 - val_accuracy: 0.2083\n",
            "Epoch 84/121\n",
            "36/36 [==============================] - 2s 65ms/step - loss: 0.7848 - accuracy: 0.6849 - val_loss: 3.6540 - val_accuracy: 0.2222\n",
            "Epoch 85/121\n",
            "36/36 [==============================] - 2s 49ms/step - loss: 0.8495 - accuracy: 0.6823 - val_loss: 3.7278 - val_accuracy: 0.2222\n",
            "Epoch 86/121\n",
            "36/36 [==============================] - 2s 50ms/step - loss: 0.8778 - accuracy: 0.6936 - val_loss: 3.7534 - val_accuracy: 0.2361\n",
            "Epoch 87/121\n",
            "36/36 [==============================] - 2s 49ms/step - loss: 0.8129 - accuracy: 0.6970 - val_loss: 3.5357 - val_accuracy: 0.1944\n",
            "Epoch 88/121\n",
            "36/36 [==============================] - 2s 47ms/step - loss: 0.8002 - accuracy: 0.7170 - val_loss: 3.8207 - val_accuracy: 0.2083\n",
            "Epoch 89/121\n",
            "36/36 [==============================] - 2s 48ms/step - loss: 1.0109 - accuracy: 0.6458 - val_loss: 3.1593 - val_accuracy: 0.2431\n",
            "Epoch 90/121\n",
            "36/36 [==============================] - 3s 83ms/step - loss: 0.8269 - accuracy: 0.6979 - val_loss: 3.4055 - val_accuracy: 0.2500\n",
            "Epoch 91/121\n",
            "36/36 [==============================] - 3s 72ms/step - loss: 0.7181 - accuracy: 0.7378 - val_loss: 4.0979 - val_accuracy: 0.2292\n",
            "Epoch 92/121\n",
            "36/36 [==============================] - 2s 50ms/step - loss: 0.6761 - accuracy: 0.7552 - val_loss: 3.9292 - val_accuracy: 0.2292\n",
            "Epoch 93/121\n",
            "36/36 [==============================] - 2s 50ms/step - loss: 0.6785 - accuracy: 0.7292 - val_loss: 4.0174 - val_accuracy: 0.2639\n",
            "Epoch 94/121\n",
            "36/36 [==============================] - 2s 47ms/step - loss: 0.6266 - accuracy: 0.7578 - val_loss: 4.4956 - val_accuracy: 0.2500\n",
            "Epoch 95/121\n",
            "36/36 [==============================] - 2s 47ms/step - loss: 0.5888 - accuracy: 0.7882 - val_loss: 4.5344 - val_accuracy: 0.2222\n",
            "Epoch 96/121\n",
            "36/36 [==============================] - 2s 48ms/step - loss: 0.6639 - accuracy: 0.7509 - val_loss: 3.9141 - val_accuracy: 0.2778\n",
            "Epoch 97/121\n",
            "36/36 [==============================] - 3s 77ms/step - loss: 0.6231 - accuracy: 0.7665 - val_loss: 4.1298 - val_accuracy: 0.2361\n",
            "Epoch 98/121\n",
            "36/36 [==============================] - 3s 75ms/step - loss: 0.6154 - accuracy: 0.7700 - val_loss: 4.0459 - val_accuracy: 0.2569\n",
            "Epoch 99/121\n",
            "36/36 [==============================] - 2s 49ms/step - loss: 0.5856 - accuracy: 0.7795 - val_loss: 4.3985 - val_accuracy: 0.2361\n",
            "Epoch 100/121\n",
            "36/36 [==============================] - 2s 49ms/step - loss: 0.6000 - accuracy: 0.7891 - val_loss: 4.2095 - val_accuracy: 0.2153\n",
            "Epoch 101/121\n",
            "36/36 [==============================] - 2s 50ms/step - loss: 0.5310 - accuracy: 0.7960 - val_loss: 4.3700 - val_accuracy: 0.2639\n",
            "Epoch 102/121\n",
            "36/36 [==============================] - 2s 50ms/step - loss: 0.4962 - accuracy: 0.8203 - val_loss: 4.4936 - val_accuracy: 0.2431\n",
            "Epoch 103/121\n",
            "36/36 [==============================] - 2s 47ms/step - loss: 0.6328 - accuracy: 0.7882 - val_loss: 4.0226 - val_accuracy: 0.2361\n",
            "Epoch 104/121\n",
            "36/36 [==============================] - 3s 77ms/step - loss: 0.5997 - accuracy: 0.7943 - val_loss: 4.1651 - val_accuracy: 0.2222\n",
            "Epoch 105/121\n",
            "36/36 [==============================] - 3s 82ms/step - loss: 0.5686 - accuracy: 0.8030 - val_loss: 4.3375 - val_accuracy: 0.2361\n",
            "Epoch 106/121\n",
            "36/36 [==============================] - 2s 51ms/step - loss: 0.7876 - accuracy: 0.7413 - val_loss: 4.0300 - val_accuracy: 0.2500\n",
            "Epoch 107/121\n",
            "36/36 [==============================] - 2s 49ms/step - loss: 0.7033 - accuracy: 0.7561 - val_loss: 4.4610 - val_accuracy: 0.2222\n",
            "Epoch 108/121\n",
            "36/36 [==============================] - 2s 48ms/step - loss: 0.6656 - accuracy: 0.7700 - val_loss: 4.0521 - val_accuracy: 0.2292\n",
            "Epoch 109/121\n",
            "36/36 [==============================] - 2s 49ms/step - loss: 0.5455 - accuracy: 0.7977 - val_loss: 4.1117 - val_accuracy: 0.2431\n",
            "Epoch 110/121\n",
            "36/36 [==============================] - 2s 48ms/step - loss: 0.4530 - accuracy: 0.8351 - val_loss: 4.7450 - val_accuracy: 0.2361\n",
            "Epoch 111/121\n",
            "36/36 [==============================] - 3s 75ms/step - loss: 0.4018 - accuracy: 0.8628 - val_loss: 5.0657 - val_accuracy: 0.2083\n",
            "Epoch 112/121\n",
            "36/36 [==============================] - 3s 81ms/step - loss: 0.5002 - accuracy: 0.8281 - val_loss: 5.0571 - val_accuracy: 0.2222\n",
            "Epoch 113/121\n",
            "36/36 [==============================] - 2s 50ms/step - loss: 0.7225 - accuracy: 0.7760 - val_loss: 4.1350 - val_accuracy: 0.2222\n",
            "Epoch 114/121\n",
            "36/36 [==============================] - 2s 50ms/step - loss: 0.6337 - accuracy: 0.7856 - val_loss: 3.9657 - val_accuracy: 0.2778\n",
            "Epoch 115/121\n",
            "36/36 [==============================] - 2s 48ms/step - loss: 0.5451 - accuracy: 0.8099 - val_loss: 4.3319 - val_accuracy: 0.2500\n",
            "Epoch 116/121\n",
            "36/36 [==============================] - 2s 48ms/step - loss: 0.4682 - accuracy: 0.8359 - val_loss: 4.2199 - val_accuracy: 0.2431\n",
            "Epoch 117/121\n",
            "36/36 [==============================] - 2s 50ms/step - loss: 0.3580 - accuracy: 0.8672 - val_loss: 4.8235 - val_accuracy: 0.2639\n",
            "Epoch 118/121\n",
            "36/36 [==============================] - 3s 72ms/step - loss: 0.3616 - accuracy: 0.8819 - val_loss: 5.0363 - val_accuracy: 0.2292\n",
            "Epoch 119/121\n",
            "36/36 [==============================] - 3s 82ms/step - loss: 0.3930 - accuracy: 0.8733 - val_loss: 5.1456 - val_accuracy: 0.2361\n",
            "Epoch 120/121\n",
            "36/36 [==============================] - 2s 50ms/step - loss: 0.4399 - accuracy: 0.8516 - val_loss: 4.6256 - val_accuracy: 0.2569\n",
            "Epoch 121/121\n",
            "36/36 [==============================] - 2s 48ms/step - loss: 0.5304 - accuracy: 0.8333 - val_loss: 4.8729 - val_accuracy: 0.2569\n"
          ]
        }
      ]
    },
    {
      "cell_type": "code",
      "source": [
        "### loss plots using LSTM model\n",
        "loss = history.history['loss']\n",
        "val_loss = history.history['val_loss']\n",
        "\n",
        "epochs = range(1, len(loss) + 1)\n",
        "\n",
        "plt.plot(epochs, loss, 'ro', label='Training loss')\n",
        "plt.plot(epochs, val_loss, 'b', label='Validation loss')\n",
        "plt.title('Training and validation loss')\n",
        "plt.xlabel('Epochs')\n",
        "plt.ylabel('Loss')\n",
        "plt.legend()\n",
        "\n",
        "plt.show()"
      ],
      "metadata": {
        "colab": {
          "base_uri": "https://localhost:8080/",
          "height": 472
        },
        "id": "p01X6Hb2B5XW",
        "outputId": "864fd110-29cc-48cf-a239-f7a7ed2dbfa3"
      },
      "execution_count": null,
      "outputs": [
        {
          "output_type": "display_data",
          "data": {
            "text/plain": [
              "<Figure size 640x480 with 1 Axes>"
            ],
            "image/png": "[encoded data removed]"
          },
          "metadata": {}
        }
      ]
    },
    {
      "cell_type": "code",
      "source": [
        "### accuracy plots using LSTM model\n",
        "plt.clf()                                                \n",
        "\n",
        "acc = history.history['accuracy']\n",
        "val_acc = history.history['val_accuracy']\n",
        "\n",
        "plt.plot(epochs, acc, 'ro', label='Training acc')\n",
        "plt.plot(epochs, val_acc, 'b', label='Validation acc')\n",
        "plt.title('Training and validation accuracy')\n",
        "plt.xlabel('Epochs')\n",
        "plt.ylabel('Loss')\n",
        "plt.legend()\n",
        "\n",
        "plt.show()"
      ],
      "metadata": {
        "colab": {
          "base_uri": "https://localhost:8080/",
          "height": 472
        },
        "id": "dLCFWbq7B8Qk",
        "outputId": "58ed5cba-d128-456f-b48c-24b9e5fbd7fb"
      },
      "execution_count": null,
      "outputs": [
        {
          "output_type": "display_data",
          "data": {
            "text/plain": [
              "<Figure size 640x480 with 1 Axes>"
            ],
            "image/png": "[encoded data removed]"
          },
          "metadata": {}
        }
      ]
    },
    {
      "cell_type": "code",
      "source": [
        "### evaluate using model A\n",
        "model_A.evaluate(np.expand_dims(ravdess_speech_data_array[training_samples + validation_samples:], -1), labels_categorical[training_samples + validation_samples:])"
      ],
      "metadata": {
        "colab": {
          "base_uri": "https://localhost:8080/"
        },
        "id": "fFmaHfxYB_eI",
        "outputId": "b5fdd761-9c1d-42c6-e382-5de2587d9b0a"
      },
      "execution_count": null,
      "outputs": [
        {
          "output_type": "stream",
          "name": "stdout",
          "text": [
            "5/5 [==============================] - 0s 19ms/step - loss: 3.2848 - accuracy: 0.3264\n"
          ]
        },
        {
          "output_type": "execute_result",
          "data": {
            "text/plain": [
              "[3.2848451137542725, 0.3263888955116272]"
            ]
          },
          "metadata": {},
          "execution_count": 19
        }
      ]
    },
    {
      "cell_type": "code",
      "source": [
        "emotions={1 : 'neutral', 2 : 'calm', 3 : 'happy', 4 : 'sad', 5 : 'angry', 6 : 'fearful', 7 : 'disgust', 8 : 'surprised'}\n",
        "def predict(wav_filepath):\n",
        "  test_point=extract_mfcc(wav_filepath)\n",
        "  test_point=np.reshape(test_point,newshape=(1,40,1))\n",
        "  predictions=model_A.predict(test_point)\n",
        "  print(emotions[np.argmax(predictions[0])+1])"
      ],
      "metadata": {
        "id": "A9Je5jc2CCTG"
      },
      "execution_count": null,
      "outputs": []
    },
    {
      "cell_type": "code",
      "source": [
        "predict('/content/drive/MyDrive/audio_speech_actors_01-24/Actor_01/03-01-01-01-02-01-01.wav')"
      ],
      "metadata": {
        "colab": {
          "base_uri": "https://localhost:8080/"
        },
        "id": "8kGvc5G9CElX",
        "outputId": "c76d7068-b609-4a3f-f09a-84a12f1f5c81"
      },
      "execution_count": null,
      "outputs": [
        {
          "output_type": "stream",
          "name": "stdout",
          "text": [
            "1/1 [==============================] - 1s 1s/step\n",
            "neutral\n"
          ]
        }
      ]
    },
    {
      "cell_type": "code",
      "source": [
        "predict('/content/drive/MyDrive/test.wav')"
      ],
      "metadata": {
        "id": "4BoJHlUdCIGx"
      },
      "execution_count": null,
      "outputs": []
    },
    {
      "cell_type": "code",
      "source": [
        "predict('/content/drive/MyDrive/audio_speech_actors_01-24/Actor_01/03-01-04-01-02-01-01.wav')"
      ],
      "metadata": {
        "colab": {
          "base_uri": "https://localhost:8080/"
        },
        "id": "pns49qyGCLGR",
        "outputId": "b3662242-8a52-4f2d-fee2-2448cb7e4783"
      },
      "execution_count": null,
      "outputs": [
        {
          "output_type": "stream",
          "name": "stdout",
          "text": [
            "1/1 [==============================] - 0s 55ms/step\n",
            "sad\n"
          ]
        }
      ]
    },
    {
      "cell_type": "code",
      "source": [
        "model_A.save('mymodel.h5')"
      ],
      "metadata": {
        "id": "Th55RNVMCNkQ"
      },
      "execution_count": null,
      "outputs": []
    },
    {
      "cell_type": "code",
      "source": [
        "modelc=tf.keras.models.load_model('mymodel.h5')"
      ],
      "metadata": {
        "id": "EkTMPmW_CP-w"
      },
      "execution_count": null,
      "outputs": []
    },
    {
      "cell_type": "code",
      "source": [
        "predict('//content/drive/MyDrive/Audio from Sanju K..wav')"
      ],
      "metadata": {
        "id": "vD2-xPGVCSva",
        "colab": {
          "base_uri": "https://localhost:8080/"
        },
        "outputId": "abfa0e4e-f9df-43ec-e730-fd7092e4efdd"
      },
      "execution_count": 25,
      "outputs": [
        {
          "output_type": "stream",
          "name": "stdout",
          "text": [
            "1/1 [==============================] - 0s 140ms/step\n",
            "neutral\n"
          ]
        }
      ]
    },
    {
      "cell_type": "code",
      "source": [],
      "metadata": {
        "id": "RbIZ6tmFRb-8"
      },
      "execution_count": null,
      "outputs": []
    }
  ]
}